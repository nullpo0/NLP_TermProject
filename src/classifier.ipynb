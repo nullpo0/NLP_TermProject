{
 "cells": [
  {
   "cell_type": "code",
   "execution_count": 19,
   "id": "35102087",
   "metadata": {},
   "outputs": [
    {
     "name": "stderr",
     "output_type": "stream",
     "text": [
      "Some weights of BertForSequenceClassification were not initialized from the model checkpoint at klue/bert-base and are newly initialized: ['classifier.bias', 'classifier.weight']\n",
      "You should probably TRAIN this model on a down-stream task to be able to use it for predictions and inference.\n"
     ]
    },
    {
     "name": "stdout",
     "output_type": "stream",
     "text": [
      "예측 라벨: 2\n"
     ]
    }
   ],
   "source": [
    "import torch\n",
    "from transformers import BertTokenizer, BertForSequenceClassification\n",
    "from peft import PeftModel\n",
    "\n",
    "model_path = \"../model/classifier_model\"\n",
    "\n",
    "# 토크나이저 로드\n",
    "tokenizer = BertTokenizer.from_pretrained(model_path)\n",
    "\n",
    "# 베이스 모델 로드 (LoRA 적용 전 베이스 모델)\n",
    "base_model_name = \"klue/bert-base\"\n",
    "base_model = BertForSequenceClassification.from_pretrained(base_model_name, num_labels=5)\n",
    "\n",
    "# LoRA 모델 로드\n",
    "model = PeftModel.from_pretrained(base_model, model_path)\n",
    "\n",
    "model.eval()  # 평가 모드로 변경\n",
    "\n",
    "def predict(text):\n",
    "    inputs = tokenizer(text, return_tensors=\"pt\", truncation=True, padding=True, max_length=128)\n",
    "\n",
    "    with torch.no_grad():\n",
    "        outputs = model(**inputs)\n",
    "        logits = outputs.logits\n",
    "        predicted_class_id = logits.argmax(dim=-1).item()\n",
    "    \n",
    "    return predicted_class_id\n",
    "\n",
    "text = \"이번 학기 수강신청 언제 시작하나요?\"\n",
    "pred_label = predict(text)\n",
    "print(\"예측 라벨:\", pred_label)\n"
   ]
  }
 ],
 "metadata": {
  "kernelspec": {
   "display_name": "venv",
   "language": "python",
   "name": "python3"
  },
  "language_info": {
   "codemirror_mode": {
    "name": "ipython",
    "version": 3
   },
   "file_extension": ".py",
   "mimetype": "text/x-python",
   "name": "python",
   "nbconvert_exporter": "python",
   "pygments_lexer": "ipython3",
   "version": "3.13.0"
  }
 },
 "nbformat": 4,
 "nbformat_minor": 5
}
