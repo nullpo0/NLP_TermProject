{
 "cells": [
  {
   "cell_type": "code",
   "execution_count": 1,
   "id": "35102087",
   "metadata": {},
   "outputs": [
    {
     "name": "stderr",
     "output_type": "stream",
     "text": [
      "c:\\dev_repos\\NLP_TermProject\\venv\\Lib\\site-packages\\tqdm\\auto.py:21: TqdmWarning: IProgress not found. Please update jupyter and ipywidgets. See https://ipywidgets.readthedocs.io/en/stable/user_install.html\n",
      "  from .autonotebook import tqdm as notebook_tqdm\n",
      "Some weights of BertForSequenceClassification were not initialized from the model checkpoint at klue/bert-base and are newly initialized: ['classifier.bias', 'classifier.weight']\n",
      "You should probably TRAIN this model on a down-stream task to be able to use it for predictions and inference.\n"
     ]
    }
   ],
   "source": [
    "import torch\n",
    "from transformers import BertTokenizer, BertForSequenceClassification\n",
    "from peft import PeftModel\n",
    "import pandas as pd\n",
    "import json\n",
    "\n",
    "def predict(text):\n",
    "    inputs = tokenizer(text, return_tensors=\"pt\", truncation=True, padding=True, max_length=128)\n",
    "\n",
    "    with torch.no_grad():\n",
    "        outputs = model(**inputs)\n",
    "        logits = outputs.logits\n",
    "        predicted_class_id = logits.argmax(dim=-1).item()\n",
    "    \n",
    "    return predicted_class_id\n",
    "\n",
    "model_path = \"../model/classifier_model\"\n",
    "\n",
    "tokenizer = BertTokenizer.from_pretrained(model_path)\n",
    "\n",
    "base_model_name = \"klue/bert-base\"\n",
    "base_model = BertForSequenceClassification.from_pretrained(base_model_name, num_labels=5)\n",
    "\n",
    "model = PeftModel.from_pretrained(base_model, model_path)\n",
    "\n",
    "model.eval()  \n",
    "\n",
    "dic = []\n",
    "\n",
    "test_cls = pd.read_json(\"../data/test_cls.json\")\n",
    "\n",
    "for question in test_cls['question']:\n",
    "    pred_label = predict(question)\n",
    "    dic.append({\"question\": question, \"label\": pred_label})\n",
    "\n",
    "with open(\"../outputs/cls_output.json\", 'w', encoding=\"utf-8\") as f:\n",
    "    json.dump(dic, f, ensure_ascii=False, indent=4)"
   ]
  }
 ],
 "metadata": {
  "kernelspec": {
   "display_name": "venv",
   "language": "python",
   "name": "python3"
  },
  "language_info": {
   "codemirror_mode": {
    "name": "ipython",
    "version": 3
   },
   "file_extension": ".py",
   "mimetype": "text/x-python",
   "name": "python",
   "nbconvert_exporter": "python",
   "pygments_lexer": "ipython3",
   "version": "3.13.0"
  }
 },
 "nbformat": 4,
 "nbformat_minor": 5
}
